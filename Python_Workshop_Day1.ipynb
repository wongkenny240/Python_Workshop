{
 "cells": [
  {
   "cell_type": "code",
   "execution_count": 23,
   "metadata": {},
   "outputs": [
    {
     "name": "stdout",
     "output_type": "stream",
     "text": [
      "a:1\n",
      "b:4\n",
      "1.6\n"
     ]
    }
   ],
   "source": [
    "a = float(input(\"a:\"))\n",
    "b = float(input(\"b:\"))\n",
    "h = (2*a*b)/(a+b)\n",
    "print(h)"
   ]
  },
  {
   "cell_type": "code",
   "execution_count": 24,
   "metadata": {},
   "outputs": [
    {
     "name": "stdout",
     "output_type": "stream",
     "text": [
      "Second:10000\n",
      "2 h: 46 m: 40 s\n"
     ]
    }
   ],
   "source": [
    "second = int(input(\"Second:\"))\n",
    "#// = floor\n",
    "hours = second//3600 if second/3600 > 0 else 0\n",
    "minutes = second//60 - (hours * 60)\n",
    "seconds = second - minutes * 60 - hours * 3600 if second - minutes * 60 - hours * 3600 > 0 else 0\n",
    "print(hours, \"h:\", minutes, \"m:\", seconds, \"s\")"
   ]
  },
  {
   "cell_type": "code",
   "execution_count": 49,
   "metadata": {},
   "outputs": [
    {
     "name": "stdout",
     "output_type": "stream",
     "text": [
      "2000\n",
      "True\n"
     ]
    }
   ],
   "source": [
    "a = float(input())\n",
    "if a % 4 == 0:\n",
    "    if a % 100 != 0:\n",
    "        print('True')\n",
    "    elif a % 100 == 0:\n",
    "        if a % 400 == 0:\n",
    "            print(\"True\")\n",
    "        else:\n",
    "            print(\"False\")\n",
    "else:\n",
    "        print(\"False\")\n",
    "\n",
    "# 4 but no 100 > True\n",
    "# 4 but 100 but no 400 > False\n",
    "# 4 but 100 and 400 > True\n",
    "# not 4 > False\n"
   ]
  },
  {
   "cell_type": "code",
   "execution_count": 28,
   "metadata": {},
   "outputs": [
    {
     "name": "stdout",
     "output_type": "stream",
     "text": [
      "4\n",
      "apple"
     ]
    }
   ],
   "source": [
    "x = int(input())\n",
    "if x % 4 != 0 or x > 0:\n",
    "  print('apple', end='')\n",
    "  if x < 0:\n",
    "    print('banana', end='')\n",
    "elif x % 4 == 0:\n",
    "  print('cherry', end='')"
   ]
  },
  {
   "cell_type": "code",
   "execution_count": 29,
   "metadata": {},
   "outputs": [
    {
     "name": "stdout",
     "output_type": "stream",
     "text": [
      "9\n",
      "97531-1\n"
     ]
    }
   ],
   "source": [
    "i = int(input())\n",
    "while i > 0:\n",
    "  print(i, end=\"\")\n",
    "  i = i - 2 \n",
    "print(i)"
   ]
  },
  {
   "cell_type": "code",
   "execution_count": 80,
   "metadata": {},
   "outputs": [
    {
     "name": "stdout",
     "output_type": "stream",
     "text": [
      "3756\n",
      "6\n",
      "5\n",
      "7\n",
      "3\n"
     ]
    }
   ],
   "source": [
    "n = int(input())\n",
    "while n > 0: #C when there are some digits to print\n",
    "    # A output last digit\n",
    "    print(n%10)\n",
    "    # B remove last digit\n",
    "    n = n // 10\n",
    "    \n"
   ]
  },
  {
   "cell_type": "code",
   "execution_count": 72,
   "metadata": {},
   "outputs": [
    {
     "data": {
      "text/plain": [
       "6"
      ]
     },
     "execution_count": 72,
     "metadata": {},
     "output_type": "execute_result"
    }
   ],
   "source": [
    "# 3756//10 > 375\n",
    "# 375//10 > 37\n",
    "# 37//10 > 3\n",
    "\n",
    "# 3756%375 > 6\n",
    "# 375%37 > 5\n",
    "# 37%3 > 1"
   ]
  },
  {
   "cell_type": "code",
   "execution_count": null,
   "metadata": {},
   "outputs": [],
   "source": []
  }
 ],
 "metadata": {
  "kernelspec": {
   "display_name": "Python 3",
   "language": "python",
   "name": "python3"
  },
  "language_info": {
   "codemirror_mode": {
    "name": "ipython",
    "version": 3
   },
   "file_extension": ".py",
   "mimetype": "text/x-python",
   "name": "python",
   "nbconvert_exporter": "python",
   "pygments_lexer": "ipython3",
   "version": "3.6.5"
  }
 },
 "nbformat": 4,
 "nbformat_minor": 2
}
