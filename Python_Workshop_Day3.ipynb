{
 "cells": [
  {
   "cell_type": "code",
   "execution_count": 6,
   "metadata": {},
   "outputs": [
    {
     "name": "stdout",
     "output_type": "stream",
     "text": [
      "1\n",
      "2\n",
      "3\n",
      "0\n",
      "[1]\n",
      "[1, 2]\n",
      "[1, 2, 3]\n"
     ]
    }
   ],
   "source": [
    "#Exercise 2-7\n",
    "n = 1\n",
    "myList = []\n",
    "history = []\n",
    "while n !=0:\n",
    "    n = int(input())\n",
    "    \n",
    "    if n != 0:\n",
    "        myList.append(n)\n",
    "        # list create a copy of myList \n",
    "        history.append(list(myList))\n",
    "        \n",
    "for h in history:\n",
    "    print(h)\n"
   ]
  },
  {
   "cell_type": "code",
   "execution_count": 17,
   "metadata": {},
   "outputs": [],
   "source": [
    "# Exercise 3-1\n",
    "def factorial(n):\n",
    "    if n == 1 :\n",
    "        return 1\n",
    "    return n * factorial(n - 1)\n",
    "\n",
    "def comb(n, r):\n",
    "    return factorial(n)/(factorial(r) * factorial(n-r))"
   ]
  },
  {
   "cell_type": "code",
   "execution_count": 18,
   "metadata": {},
   "outputs": [
    {
     "data": {
      "text/plain": [
       "1716.0"
      ]
     },
     "execution_count": 18,
     "metadata": {},
     "output_type": "execute_result"
    }
   ],
   "source": [
    "comb(13, 7)\n"
   ]
  },
  {
   "cell_type": "code",
   "execution_count": 37,
   "metadata": {},
   "outputs": [
    {
     "name": "stdout",
     "output_type": "stream",
     "text": [
      "4\n",
      "15\n",
      "924\n"
     ]
    }
   ],
   "source": [
    "# Exercise 3-1 Solution\n",
    "def comb(n, r):\n",
    "    if n < r or r < 0:\n",
    "        return 0\n",
    "    if n==r:\n",
    "        return 1\n",
    "    if r==0:\n",
    "        return 0\n",
    "    return comb(n-1, r) + comb(n-1, r-1)\n",
    "    \n",
    "    \n",
    "print(comb(5,2))\n",
    "print(comb(7,3))\n",
    "print(comb(13,7))"
   ]
  },
  {
   "cell_type": "markdown",
   "metadata": {},
   "source": [
    "\n",
    "* 3C2\n",
    "     * 2C2 (n==r)\n",
    "     * 2C1\n",
    "         * 1C1 (n==r)\n",
    "         * 1C0 (r==0)\n",
    "     "
   ]
  },
  {
   "cell_type": "code",
   "execution_count": 32,
   "metadata": {},
   "outputs": [],
   "source": [
    "# Exercise 3-2\n",
    "\n",
    "def readList():\n",
    "    n = 1\n",
    "    myList = []\n",
    "    while n !=0:\n",
    "        n = int(input())\n",
    "\n",
    "        if n != 0:\n",
    "            myList.append(n)\n",
    "    return myList\n",
    "\n",
    "def findNo(myList, number):\n",
    "    i = 0\n",
    "    while i < len(myList):\n",
    "        if myList[i] == number:\n",
    "            return True\n",
    "            break\n",
    "        else:\n",
    "            i += 1\n",
    "    return False\n"
   ]
  },
  {
   "cell_type": "code",
   "execution_count": 27,
   "metadata": {},
   "outputs": [
    {
     "name": "stdout",
     "output_type": "stream",
     "text": [
      "1\n",
      "3\n",
      "5\n",
      "0\n"
     ]
    }
   ],
   "source": [
    "myList = readList()"
   ]
  },
  {
   "cell_type": "code",
   "execution_count": 36,
   "metadata": {},
   "outputs": [
    {
     "name": "stdout",
     "output_type": "stream",
     "text": [
      "2\n",
      "False\n"
     ]
    }
   ],
   "source": [
    "number = int(input())\n",
    "print(findNo(myList, number))"
   ]
  },
  {
   "cell_type": "code",
   "execution_count": 97,
   "metadata": {},
   "outputs": [],
   "source": [
    "# Exercise 3-4/ 3-5\n",
    "class Frac:\n",
    "    def __init__(self, x, y):\n",
    "        self.x, self.y = x, y\n",
    "        \n",
    "    # specify how an object can be presented\n",
    "    def __str__(self):\n",
    "        return f'{self.x}/{self.y}'\n",
    "    \n",
    "    def invert(self):\n",
    "        return f'{self.y}/{self.x}'\n",
    "    \n",
    "    def multi(self, f):\n",
    "        self.x = self.x * f.x\n",
    "        self.y = self.y * f.y\n",
    "        return f'{self.x}/{self.y}'\n",
    "    \n",
    "    def add(self, f):\n",
    "        self.x = self.x * f.y + f.x * self.y\n",
    "        self.y = self.y * f.y\n",
    "        cf = self.cf(self.x, self.y)\n",
    "        self.x = self.x/cf\n",
    "        self.y = self.y/cf\n",
    "        return f'{int(self.x)}/{int(self.y)}'\n",
    "    \n",
    "    def eval(self):\n",
    "        return f'{self.x/self.y}'\n",
    "    \n",
    "    def minus(self, f):\n",
    "        self.x = self.x * f.y - f.x * self.y\n",
    "        self.y = self.y * f.y\n",
    "        cf = self.cf(self.x, self.y)\n",
    "        self.x = self.x/cf\n",
    "        self.y = self.y/cf\n",
    "        return f'{int(self.x)}/{int(self.y)}'\n",
    "    \n",
    "    def cf(self, num1, num2):\n",
    "        n = []\n",
    "        for i in range(1, min(num1, num2)+1):\n",
    "            if num1%i==0 and num2%i == 0:\n",
    "                n.append(i)\n",
    "        return n[len(n)-1]"
   ]
  },
  {
   "cell_type": "code",
   "execution_count": 80,
   "metadata": {},
   "outputs": [
    {
     "name": "stdout",
     "output_type": "stream",
     "text": [
      "1/2\n"
     ]
    }
   ],
   "source": [
    "print(Frac(1,2))"
   ]
  },
  {
   "cell_type": "code",
   "execution_count": 98,
   "metadata": {},
   "outputs": [],
   "source": [
    "x, y = Frac(1,3), Frac(1,2)\n"
   ]
  },
  {
   "cell_type": "code",
   "execution_count": 73,
   "metadata": {},
   "outputs": [
    {
     "data": {
      "text/plain": [
       "'3/1'"
      ]
     },
     "execution_count": 73,
     "metadata": {},
     "output_type": "execute_result"
    }
   ],
   "source": [
    "x.invert()"
   ]
  },
  {
   "cell_type": "code",
   "execution_count": 74,
   "metadata": {},
   "outputs": [
    {
     "data": {
      "text/plain": [
       "'1/6'"
      ]
     },
     "execution_count": 74,
     "metadata": {},
     "output_type": "execute_result"
    }
   ],
   "source": [
    "x.multi(y)"
   ]
  },
  {
   "cell_type": "code",
   "execution_count": 96,
   "metadata": {},
   "outputs": [
    {
     "data": {
      "text/plain": [
       "'2/3'"
      ]
     },
     "execution_count": 96,
     "metadata": {},
     "output_type": "execute_result"
    }
   ],
   "source": [
    "x.add(x)"
   ]
  },
  {
   "cell_type": "code",
   "execution_count": 99,
   "metadata": {},
   "outputs": [
    {
     "data": {
      "text/plain": [
       "'0.3333333333333333'"
      ]
     },
     "execution_count": 99,
     "metadata": {},
     "output_type": "execute_result"
    }
   ],
   "source": [
    "x.eval()"
   ]
  },
  {
   "cell_type": "code",
   "execution_count": 116,
   "metadata": {},
   "outputs": [],
   "source": [
    "# Exercise 3-4 Solution\n",
    "class Frac:\n",
    "    n = 1\n",
    "    d = 1\n",
    "    \n",
    "    def __init__(self, n, d):\n",
    "        self.n = n\n",
    "        self.d = d\n",
    "        self.simplify()\n",
    "        \n",
    "    def simplify(self):\n",
    "        import math\n",
    "        gcd = math.gcd(self.n, self.d)\n",
    "        self.n //= gcd\n",
    "        self.d //= gcd\n",
    "    \n",
    "    def __str__(self):\n",
    "        return str(self.n) + '/' + str(self.d)\n",
    "        # or:\n",
    "        # return f'{self.n}/{self.d}'\n",
    "    \n",
    "    def invert(self):\n",
    "        self.n, self.d = self.d, self.n\n",
    "        \n",
    "    def multi(self, f):\n",
    "        self.n *= f.n\n",
    "        self.d *= f.d\n",
    "        self.simplify()\n",
    "\n",
    "    def add(self, f):\n",
    "        #n1/d1 + n2/d2 = (n1d2 + n2d1)/d1d2\n",
    "        self.n = self.n * f.d + f.n * self.d\n",
    "        self.d = self.d * f.d\n",
    "        self.simplify()\n",
    "        \n",
    "    def eval(self):\n",
    "        return self.n/self.d\n",
    "    \n",
    "        "
   ]
  },
  {
   "cell_type": "code",
   "execution_count": 103,
   "metadata": {},
   "outputs": [
    {
     "name": "stdout",
     "output_type": "stream",
     "text": [
      "1/2 2/1\n"
     ]
    }
   ],
   "source": [
    "x, y = Frac(2, 4), Frac(6, 3)\n",
    "print(x, y)"
   ]
  },
  {
   "cell_type": "code",
   "execution_count": 105,
   "metadata": {},
   "outputs": [
    {
     "name": "stdout",
     "output_type": "stream",
     "text": [
      "3/2\n"
     ]
    }
   ],
   "source": [
    "x = Frac(2, 3)\n",
    "x.invert()\n",
    "print(x)"
   ]
  },
  {
   "cell_type": "code",
   "execution_count": 111,
   "metadata": {},
   "outputs": [
    {
     "name": "stdout",
     "output_type": "stream",
     "text": [
      "1/3\n"
     ]
    }
   ],
   "source": [
    "x, y = Frac(2, 3), Frac(1, 2)\n",
    "x.multi(y)\n",
    "print(x)"
   ]
  },
  {
   "cell_type": "code",
   "execution_count": 114,
   "metadata": {},
   "outputs": [
    {
     "name": "stdout",
     "output_type": "stream",
     "text": [
      "2/3\n",
      "7/6\n"
     ]
    }
   ],
   "source": [
    "x, y = Frac(1, 3), Frac(1, 2)\n",
    "x.add(x)\n",
    "print(x)\n",
    "x.add(y)\n",
    "print(x)"
   ]
  },
  {
   "cell_type": "code",
   "execution_count": 117,
   "metadata": {},
   "outputs": [
    {
     "name": "stdout",
     "output_type": "stream",
     "text": [
      "0.125\n"
     ]
    }
   ],
   "source": [
    "x = Frac(1, 8)\n",
    "print(x.eval())"
   ]
  },
  {
   "cell_type": "code",
   "execution_count": null,
   "metadata": {},
   "outputs": [],
   "source": []
  }
 ],
 "metadata": {
  "kernelspec": {
   "display_name": "Python 3",
   "language": "python",
   "name": "python3"
  },
  "language_info": {
   "codemirror_mode": {
    "name": "ipython",
    "version": 3
   },
   "file_extension": ".py",
   "mimetype": "text/x-python",
   "name": "python",
   "nbconvert_exporter": "python",
   "pygments_lexer": "ipython3",
   "version": "3.6.5"
  }
 },
 "nbformat": 4,
 "nbformat_minor": 2
}
