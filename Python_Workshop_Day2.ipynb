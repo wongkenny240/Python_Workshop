{
 "cells": [
  {
   "cell_type": "code",
   "execution_count": 2,
   "metadata": {},
   "outputs": [
    {
     "data": {
      "text/plain": [
       "(1, 2, 3)"
      ]
     },
     "execution_count": 2,
     "metadata": {},
     "output_type": "execute_result"
    }
   ],
   "source": [
    "a = 1,2,3\n",
    "a"
   ]
  },
  {
   "cell_type": "code",
   "execution_count": 6,
   "metadata": {},
   "outputs": [
    {
     "data": {
      "text/plain": [
       "(1, 3)"
      ]
     },
     "execution_count": 6,
     "metadata": {},
     "output_type": "execute_result"
    }
   ],
   "source": [
    "a[0:3:2]"
   ]
  },
  {
   "cell_type": "code",
   "execution_count": 7,
   "metadata": {},
   "outputs": [
    {
     "name": "stdout",
     "output_type": "stream",
     "text": [
      "1\n",
      "2\n",
      "3\n"
     ]
    }
   ],
   "source": [
    "for i in a:\n",
    "    print(i)"
   ]
  },
  {
   "cell_type": "code",
   "execution_count": 5,
   "metadata": {},
   "outputs": [
    {
     "name": "stdout",
     "output_type": "stream",
     "text": [
      "1\n",
      "2\n",
      "3\n",
      "4\n",
      "5\n",
      "6\n",
      "7\n",
      "8\n",
      "9\n",
      "0\n",
      "(1, 2, 3, 4, 5, 6, 7, 8, 9)\n",
      "(2, 3, 4, 5, 6, 7, 8)\n",
      "(3, 4, 5, 6, 7)\n",
      "(4, 5, 6)\n",
      "(5,)\n",
      "()\n",
      "()\n",
      "()\n",
      "()\n"
     ]
    }
   ],
   "source": [
    "# Exercise 2-1\n",
    "n = 1\n",
    "t = ()\n",
    "while n !=0:\n",
    "    n = int(input())\n",
    "    if n !=0:\n",
    "        t = t + (n,)\n",
    "print(t)\n",
    "\n",
    "for i in range(1, len(t)):\n",
    "    # print(i)\n",
    "    # print(len(t)-i)\n",
    "    print(t[i:len(t)-i])\n",
    "    \n",
    "# 1,2,3,4,5,6,7,8,9,0, > 0\n",
    "# 1,2,3,4,5,6,7,8,9 > 1,9\n",
    "# 2,3,4,5,6,7,8"
   ]
  },
  {
   "cell_type": "code",
   "execution_count": 8,
   "metadata": {},
   "outputs": [
    {
     "name": "stdout",
     "output_type": "stream",
     "text": [
      "1\n",
      "2\n",
      "3\n",
      "0\n",
      "(1, 2, 3)\n",
      "(1, 2, 3)\n",
      "(2,)\n"
     ]
    }
   ],
   "source": [
    "n = 1\n",
    "t = ()\n",
    "while n !=0:\n",
    "    n = int(input())\n",
    "    # don't add 0 to the tuple\n",
    "    if n !=0:\n",
    "        t = t + (n,)\n",
    "print(t)\n",
    "\n",
    "while len(t) > 0:\n",
    "    print(t)\n",
    "    t = t[1:-1]"
   ]
  },
  {
   "cell_type": "code",
   "execution_count": null,
   "metadata": {},
   "outputs": [],
   "source": [
    "## t = 1,2,3,4,5,6,7,8,9,0,\n",
    "\n",
    "len(t)\n",
    "t[0:9]\n",
    "t[1:8]\n",
    "t[2:7]\n",
    "t[3:6]\n",
    "t[4:5]"
   ]
  },
  {
   "cell_type": "code",
   "execution_count": 9,
   "metadata": {},
   "outputs": [
    {
     "name": "stdout",
     "output_type": "stream",
     "text": [
      "1\n",
      "3\n"
     ]
    },
    {
     "ename": "TypeError",
     "evalue": "not all arguments converted during string formatting",
     "output_type": "error",
     "traceback": [
      "\u001b[1;31m---------------------------------------------------------------------------\u001b[0m",
      "\u001b[1;31mTypeError\u001b[0m                                 Traceback (most recent call last)",
      "\u001b[1;32m<ipython-input-9-11abbcab28db>\u001b[0m in \u001b[0;36m<module>\u001b[1;34m()\u001b[0m\n\u001b[0;32m      3\u001b[0m \u001b[1;33m\u001b[0m\u001b[0m\n\u001b[0;32m      4\u001b[0m \u001b[1;32mwhile\u001b[0m \u001b[0mb\u001b[0m\u001b[1;33m!=\u001b[0m\u001b[1;36m0\u001b[0m\u001b[1;33m:\u001b[0m\u001b[1;33m\u001b[0m\u001b[0m\n\u001b[1;32m----> 5\u001b[1;33m     \u001b[0mb\u001b[0m \u001b[1;33m=\u001b[0m \u001b[0ma\u001b[0m\u001b[1;33m%\u001b[0m\u001b[0mb\u001b[0m\u001b[1;33m\u001b[0m\u001b[0m\n\u001b[0m\u001b[0;32m      6\u001b[0m     \u001b[0ma\u001b[0m \u001b[1;33m=\u001b[0m \u001b[0mb\u001b[0m\u001b[1;33m\u001b[0m\u001b[0m\n\u001b[0;32m      7\u001b[0m     \u001b[0mprint\u001b[0m\u001b[1;33m(\u001b[0m\u001b[0ma\u001b[0m\u001b[1;33m)\u001b[0m\u001b[1;33m\u001b[0m\u001b[0m\n",
      "\u001b[1;31mTypeError\u001b[0m: not all arguments converted during string formatting"
     ]
    }
   ],
   "source": [
    "a=input()\n",
    "b=input()\n",
    "\n",
    "while b!=0:\n",
    "    b = a%b\n",
    "    a = b\n",
    "    print(a)"
   ]
  },
  {
   "cell_type": "code",
   "execution_count": 3,
   "metadata": {},
   "outputs": [
    {
     "name": "stdout",
     "output_type": "stream",
     "text": [
      "hello\n",
      "hellohello\n",
      "_ellohell\n",
      "__llohel\n",
      "___lohe\n",
      "____oh\n"
     ]
    }
   ],
   "source": [
    "# Exercise 2-3\n",
    "mystr = input()\n",
    "length = len(mystr)\n",
    "i=0\n",
    "\n",
    "while length > 0:\n",
    "    print(\"_\" * i + mystr[i:len(mystr)] + mystr[:len(mystr)-i])\n",
    "    i +=1\n",
    "    length -=1"
   ]
  },
  {
   "cell_type": "code",
   "execution_count": 15,
   "metadata": {},
   "outputs": [
    {
     "name": "stdout",
     "output_type": "stream",
     "text": [
      "hello\n",
      "hellohello\n",
      "hellohello\n",
      "_ellohell\n",
      "__llohel\n",
      "___lohe\n",
      "____oh\n"
     ]
    }
   ],
   "source": [
    "s = input()\n",
    "s = s * 2\n",
    "print(s)\n",
    "i = 0\n",
    "while len(s) > 0:\n",
    "    print('_' * i + s)\n",
    "    s = s[1:-1]\n",
    "    i += 1"
   ]
  },
  {
   "cell_type": "code",
   "execution_count": 12,
   "metadata": {},
   "outputs": [
    {
     "name": "stdout",
     "output_type": "stream",
     "text": [
      "hello\n",
      "\n",
      "hhehelhellhello\n",
      "hhehelhellhelloellolloloo\n"
     ]
    }
   ],
   "source": [
    "# Exercise 2-4\n",
    "mystr = input()\n",
    "length = len(mystr)\n",
    "resultstr = \"\"\n",
    "\n",
    "i=0\n",
    "for i in range(length):\n",
    "    resultstr += mystr[:i+1]\n",
    "# print(resultstr)\n",
    "\n",
    "j=0\n",
    "\n",
    "for j in range(length):\n",
    "    resultstr += mystr[j+1:]\n",
    "    \n",
    "print(resultstr)"
   ]
  },
  {
   "cell_type": "code",
   "execution_count": 25,
   "metadata": {},
   "outputs": [
    {
     "name": "stdout",
     "output_type": "stream",
     "text": [
      "30\n",
      "1\n",
      "[6, 7, 12, 14, 18, 21, 24, 28]\n"
     ]
    }
   ],
   "source": [
    "# Exercise 2-5\n",
    "\n",
    "num = int(input())\n",
    "day = int(input())\n",
    "li = []\n",
    "for i in range(1,num):\n",
    "    if i%(6+day) ==0 or i%(8-day)==0:\n",
    "        li.append(i)\n",
    "print(li)\n"
   ]
  },
  {
   "cell_type": "code",
   "execution_count": null,
   "metadata": {},
   "outputs": [],
   "source": [
    "# monday 6 sat\n",
    "# tues 5\n",
    "# thurs 3"
   ]
  },
  {
   "cell_type": "code",
   "execution_count": 36,
   "metadata": {},
   "outputs": [
    {
     "name": "stdout",
     "output_type": "stream",
     "text": [
      "30\n",
      "3\n",
      "[4, 5, 11, 12, 18, 19, 25, 26]\n"
     ]
    }
   ],
   "source": [
    "days = int(input())\n",
    "# day of week of the first day\n",
    "dow = int(input())\n",
    "\n",
    "dayOfWeek= dow\n",
    "myList = []\n",
    "for d in range(1, days+1):\n",
    "    if dow == 6 or dow == 0:\n",
    "        myList.append(d)\n",
    "        # myList.append((d, dow))\n",
    "    # dow +=1\n",
    "    # if dow == 7:\n",
    "    #    dow = 0\n",
    "    dow = (dow + 1) % 7\n",
    "print(myList)"
   ]
  },
  {
   "cell_type": "code",
   "execution_count": null,
   "metadata": {},
   "outputs": [],
   "source": []
  }
 ],
 "metadata": {
  "kernelspec": {
   "display_name": "Python 3",
   "language": "python",
   "name": "python3"
  },
  "language_info": {
   "codemirror_mode": {
    "name": "ipython",
    "version": 3
   },
   "file_extension": ".py",
   "mimetype": "text/x-python",
   "name": "python",
   "nbconvert_exporter": "python",
   "pygments_lexer": "ipython3",
   "version": "3.6.5"
  }
 },
 "nbformat": 4,
 "nbformat_minor": 2
}
